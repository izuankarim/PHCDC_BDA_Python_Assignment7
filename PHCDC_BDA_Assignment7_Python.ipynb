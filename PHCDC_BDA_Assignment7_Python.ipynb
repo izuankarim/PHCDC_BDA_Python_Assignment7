{
 "cells": [
  {
   "cell_type": "code",
   "execution_count": 1,
   "id": "0ee0ddf8",
   "metadata": {},
   "outputs": [
    {
     "name": "stdout",
     "output_type": "stream",
     "text": [
      "Temperature in Farenheit: 120\n",
      "Farenheit temperature 120.0  is the same as  48.89 degrees Celsius\n"
     ]
    }
   ],
   "source": [
    "\"\"\"\n",
    "D15P1. F2C Conversion\n",
    "Write a program that takes as input Fahrenheit temperature. It converts the input temperature to Celsius and prints out the converted temperature as shown in the example. The formula for conversion between the two is: C=5/9(F−32), Where C is the temperature in Celsius and F is the temperature in Fahrenheit.\n",
    "NOTE:\n",
    "1.\tDO NOT use any prompts in the input().\n",
    "2.\tUse the round() function to round your answer to up to two decimal places. That is, use round(VALUE, 2).\n",
    "\"\"\"\n",
    "\n",
    "F=float(input(\"Temperature in Farenheit: \"))\n",
    "C=(5/9)*(F-32)\n",
    "\n",
    "print(\"Farenheit temperature\",F,\" is the same as \" ,round(C,2),\"degrees Celsius\")"
   ]
  },
  {
   "cell_type": "code",
   "execution_count": 2,
   "id": "18dd7e81",
   "metadata": {},
   "outputs": [
    {
     "name": "stdout",
     "output_type": "stream",
     "text": [
      "Initial speed:50\n",
      "Acceleration:2\n",
      "Time:2\n",
      "The Final Velocity is 54.0\n"
     ]
    }
   ],
   "source": [
    "\"\"\"\n",
    "D15P2. Final Velocity\n",
    "Write a program that takes as input three numbers, u, a, and t. Here u stands for the initial velocity, a \n",
    "stands for the acceleration, and t stands for the time duration. The program prints the final velocity (v).\n",
    "\n",
    "The input will consist of three lines. The first line will contain the initial velocity u, the second line \n",
    "will contain acceleration a and the third line will contain time t. Recall that u and a can take any real (float) \n",
    "values as velocity and acceleration are continuous vector quantities (in physics). Time t can take non-negative \n",
    "real values only, i.e., 0 ≤ t.\n",
    " \n",
    "NOTE:\n",
    "1.\tDO NOT use any prompts in the input().\n",
    "2.\tThe formula for computing the final velocity: v=u+at\n",
    "3.\tUse the round() function to round a VALUE to up to two decimal places:  round(VALUE, 2)\n",
    "\"\"\"\n",
    "\n",
    "u=float(input(\"Initial speed:\"))\n",
    "a=float(input(\"Acceleration:\"))\n",
    "t=float(input(\"Time:\"))\n",
    "v=u+(a*t)\n",
    "print(\"The Final Velocity is\", round(v,2))"
   ]
  },
  {
   "cell_type": "code",
   "execution_count": 4,
   "id": "3b39a904",
   "metadata": {},
   "outputs": [
    {
     "name": "stdout",
     "output_type": "stream",
     "text": [
      "Initial speed:20\n",
      "Acceleration:15\n",
      "Time:2\n",
      "The Displacement is 70.0\n"
     ]
    }
   ],
   "source": [
    "\"\"\"\n",
    "D15P3. Displacement Covered\n",
    "Write a program that takes as input three numbers, u, a, and t. Here u stands for the initial velocity, \n",
    "a stands for the acceleration, and t stands for the time duration. The program prints the displacement covered (d) \n",
    "in time t.\n",
    "\n",
    "The input will consist of three lines. The first line will contain the initial velocity u, the second line will \n",
    "contain acceleration a and the third line will contain the time t. Recall that u and a can take any real value as \n",
    "velocity and acceleration are continuous vectors (in physics). Time t can take non-negative real \n",
    "values only, i.e., 0 ≤ t.\n",
    "\n",
    "NOTE:\n",
    "1.\tDO NOT use any prompts in the input().\n",
    "2.\tThe formula for computing the displacement:  d=ut+1/2at2\n",
    "3.\tUse the round() function to round a VALUE to up to two decimal places:  round(VALUE, 2).\n",
    "\"\"\"\n",
    "\n",
    "u=float(input(\"Initial speed:\"))\n",
    "a=float(input(\"Acceleration:\"))\n",
    "t=float(input(\"Time:\"))\n",
    "d=(u*t)+((a*t*t))/2\n",
    "print(\"The Displacement is\", round(d,2))"
   ]
  },
  {
   "cell_type": "code",
   "execution_count": 6,
   "id": "8d6496ca",
   "metadata": {},
   "outputs": [
    {
     "name": "stdout",
     "output_type": "stream",
     "text": [
      "Duration in second(s): 560\n",
      "0 : 9 : 20\n"
     ]
    }
   ],
   "source": [
    "\"\"\"\n",
    "D15P4. Number of Days\n",
    "Write a program that takes as input an Integer s, the number of seconds elapsed for a certain event. The program \n",
    "converts s to hours (hh), minutes (mm), and seconds (ss) and prints the output as hh:mm:ss.\n",
    "- Convert seconds in hour, minute and seconds\n",
    "\n",
    "Note that the input will only be positive integer values since time cannot be negative.\n",
    "\"\"\"\n",
    "\n",
    "s=int(input(\"Duration in second(s): \"))\n",
    "if s>=0:\n",
    "    h = round(s // 3600)\n",
    "    m = round((s-(3600*h)) // 60)\n",
    "    s = round(s- (3600*h)-(m*60))\n",
    "    print(h,\":\",m,\":\",s)\n",
    "else:\n",
    "    print(\"Input will only be positive integer values since time cannot be negative. Please try again.\")"
   ]
  },
  {
   "cell_type": "code",
   "execution_count": 8,
   "id": "5993a56e",
   "metadata": {},
   "outputs": [
    {
     "name": "stdout",
     "output_type": "stream",
     "text": [
      "Please Enter the Year Number:1985\n",
      "False\n"
     ]
    }
   ],
   "source": [
    "\"\"\"\n",
    "D15P5. Leap Year\n",
    "Write a program to check if the given year is a leap year or not.\n",
    "The program should read an integer (year) from a user. Display the Boolean value: True if the year is a \n",
    "leap year, False if not.\n",
    "\"\"\"\n",
    "\n",
    "def CheckLeap(Year):\n",
    "\n",
    "# Check if the given year is a leap year\n",
    "    if ((Year % 400 == 0) or\n",
    "    (Year % 100 != 0) and\n",
    "    (Year % 4 == 0)):\n",
    "        print(\"True\");\n",
    "        \n",
    "# If not a leap year\n",
    "    else:\n",
    "        print(\"False\")\n",
    "        \n",
    "Year=int(input(\"Please Enter the Year Number:\"))\n",
    "CheckLeap(Year)\n"
   ]
  },
  {
   "cell_type": "code",
   "execution_count": 17,
   "id": "50f2acce",
   "metadata": {},
   "outputs": [
    {
     "name": "stdout",
     "output_type": "stream",
     "text": [
      "Please enter the number:456321\n",
      "123654\n",
      "<class 'int'>\n"
     ]
    }
   ],
   "source": [
    "\"\"\"\n",
    "D15P6. Reverse the number\n",
    "Write a program to find reverse of the number.\n",
    "The program should read an integer (number) from a user. The program should print the reverse of the given input.\n",
    "\"\"\"\n",
    "\n",
    "num = int(input(\"Please enter the number:\"))\n",
    "print (str(num)[::-1])\n",
    "print (type(num))"
   ]
  },
  {
   "cell_type": "code",
   "execution_count": 22,
   "id": "45161386",
   "metadata": {},
   "outputs": [
    {
     "name": "stdout",
     "output_type": "stream",
     "text": [
      "Multiplier: 5\n",
      "Up until range, i.e. 1-12: 12\n",
      "5 x 1 = 5\n",
      "5 x 2 = 10\n",
      "5 x 3 = 15\n",
      "5 x 4 = 20\n",
      "5 x 5 = 25\n",
      "5 x 6 = 30\n",
      "5 x 7 = 35\n",
      "5 x 8 = 40\n",
      "5 x 9 = 45\n",
      "5 x 10 = 50\n",
      "5 x 11 = 55\n",
      "5 x 12 = 60\n"
     ]
    }
   ],
   "source": [
    "\"\"\"\n",
    "D15P7. Display Multiplication table\n",
    "Write a program to Display the multiplication table.\n",
    "The program should read an integer (Multiplier and Range) from a user. The program should print the \n",
    "multiplication table for following format.\n",
    "\n",
    "Input: 4   10\n",
    "\n",
    "Output\n",
    "1*4=4\n",
    "2*4=8\n",
    "3*4=12\n",
    "…\n",
    "10*4=40\n",
    "\n",
    "\"\"\"\n",
    "num = int(input(\"Multiplier: \"))\n",
    "upto = int(input(\"Up until range, i.e. 1-12: \"))\n",
    "\n",
    "\n",
    "# To take input from the user\n",
    "# num = int(input(\"Display multiplication table of? \"))\n",
    "\n",
    "# Iterate 10 times from i = 1 to 10\n",
    "for i in range(1, upto+1):\n",
    "   print(num, 'x', i, '=', num*i)"
   ]
  },
  {
   "cell_type": "code",
   "execution_count": 25,
   "id": "8398d378",
   "metadata": {},
   "outputs": [
    {
     "name": "stdout",
     "output_type": "stream",
     "text": [
      "Enter a number: 19\n",
      "19 is a prime number\n"
     ]
    }
   ],
   "source": [
    "\"\"\"\n",
    "D15P8. Prime number Checking\n",
    "Write a program to check whether given number is prime or not.\n",
    "The program should read an integer (number) from a user. The program should print the number is prime or not.\n",
    "\"\"\"\n",
    "\n",
    "\n",
    "# To take input from the user\n",
    "num = int(input(\"Enter a number: \"))\n",
    "\n",
    "# prime numbers are greater than 1\n",
    "if num > 1:\n",
    "   # check for factors\n",
    "   for i in range(2,num):\n",
    "       if (num % i) == 0:\n",
    "           print(num,\"is not a prime number\")\n",
    "           print(i,\"times\",num//i,\"is\",num)\n",
    "           break\n",
    "   else:\n",
    "       print(num,\"is a prime number\")\n",
    "\n",
    "#if input number is less than or equal to 1, it is not prime\n",
    "\n",
    "else:\n",
    "   print(num,\"is not a prime number\")"
   ]
  }
 ],
 "metadata": {
  "kernelspec": {
   "display_name": "Python 3",
   "language": "python",
   "name": "python3"
  },
  "language_info": {
   "codemirror_mode": {
    "name": "ipython",
    "version": 3
   },
   "file_extension": ".py",
   "mimetype": "text/x-python",
   "name": "python",
   "nbconvert_exporter": "python",
   "pygments_lexer": "ipython3",
   "version": "3.8.8"
  }
 },
 "nbformat": 4,
 "nbformat_minor": 5
}
